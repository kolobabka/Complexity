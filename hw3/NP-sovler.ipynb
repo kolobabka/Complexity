{
 "cells": [
  {
   "cell_type": "markdown",
   "metadata": {},
   "source": [
    "# Part 1: validation set"
   ]
  },
  {
   "cell_type": "markdown",
   "metadata": {},
   "source": [
    "## Abstract"
   ]
  },
  {
   "cell_type": "markdown",
   "metadata": {},
   "source": [
    "As an example of NP-hard problem let's pick up sudoku solution:"
   ]
  },
  {
   "cell_type": "code",
   "execution_count": 1,
   "metadata": {},
   "outputs": [],
   "source": [
    "def solve_sudoku(board):\n",
    "    empty_cell = find_empty_cell(board)\n",
    "    if not empty_cell:\n",
    "        return True\n",
    "\n",
    "    row, col = empty_cell\n",
    "\n",
    "    for num in range(1, 10):\n",
    "        if is_valid(board, num, row, col):\n",
    "            board[row][col] = num\n",
    "\n",
    "            if solve_sudoku(board):\n",
    "                return True\n",
    "\n",
    "            board[row][col] = 0\n",
    "\n",
    "    return False\n",
    "\n",
    "def find_empty_cell(board):\n",
    "    for i in range(9):\n",
    "        for j in range(9):\n",
    "            if board[i][j] == 0:\n",
    "                return (i, j)\n",
    "    return None\n",
    "\n",
    "def is_valid(board, num, row, col):\n",
    "    if num in board[row]:\n",
    "        return False\n",
    "\n",
    "    if num in [board[i][col] for i in range(9)]:\n",
    "        return False\n",
    "\n",
    "    box_row = row // 3 * 3\n",
    "    box_col = col // 3 * 3\n",
    "    for i in range(box_row, box_row + 3):\n",
    "        for j in range(box_col, box_col + 3):\n",
    "            if board[i][j] == num:\n",
    "                return False\n",
    "\n",
    "    return True"
   ]
  },
  {
   "cell_type": "markdown",
   "metadata": {},
   "source": [
    "There is a **backtracking** method -- we validate every next turn. It's implemented with recursion"
   ]
  },
  {
   "cell_type": "markdown",
   "metadata": {},
   "source": [
    "Let's consider a test"
   ]
  },
  {
   "cell_type": "code",
   "execution_count": 3,
   "metadata": {},
   "outputs": [
    {
     "name": "stdout",
     "output_type": "stream",
     "text": [
      "Initial board :\n",
      " 0  0  1  |  0  0  0  |  0  8  0 \n",
      " 0  0  0  |  0  0  5  |  0  0  0 \n",
      " 0  4  0  |  8  0  0  |  0  0  0 \n",
      "---------------------\n",
      " 3  0  6  |  0  0  0  |  0  0  0 \n",
      " 0  0  0  |  0  0  0  |  9  0  0 \n",
      " 0  0  0  |  0  0  0  |  0  0  7 \n",
      "---------------------\n",
      " 0  0  0  |  6  0  0  |  0  7  0 \n",
      " 0  0  0  |  0  0  0  |  0  0  0 \n",
      " 0  0  0  |  0  0  0  |  0  0  0 \n",
      "Solution :\n",
      " 2  3  1  |  4  6  7  |  5  8  9 \n",
      " 6  7  8  |  1  9  5  |  2  3  4 \n",
      " 5  4  9  |  8  2  3  |  7  1  6 \n",
      "---------------------\n",
      " 3  1  6  |  2  7  9  |  4  5  8 \n",
      " 4  2  7  |  5  1  8  |  9  6  3 \n",
      " 8  9  5  |  3  4  6  |  1  2  7 \n",
      "---------------------\n",
      " 9  5  2  |  6  3  4  |  8  7  1 \n",
      " 1  6  4  |  7  8  2  |  3  9  5 \n",
      " 7  8  3  |  9  5  1  |  6  4  2 \n"
     ]
    }
   ],
   "source": [
    "def print_board(board):\n",
    "    for i in range(9):\n",
    "        if i % 3 == 0 and i != 0:\n",
    "            print(\"-\" * 21)\n",
    "        for j in range(9):\n",
    "            if j % 3 == 0 and j != 0:\n",
    "                print(\" | \", end=\"\")\n",
    "            print(f\" {board[i][j]} \", end=\"\")\n",
    "        print()\n",
    "\n",
    "if __name__ == \"__main__\":\n",
    "    sudoku_board = [\n",
    "        [0, 0, 1, 0, 0, 0, 0, 8, 0],\n",
    "        [0, 0, 0, 0, 0, 5, 0, 0, 0],\n",
    "        [0, 4, 0, 8, 0, 0, 0, 0, 0],\n",
    "        [3, 0, 6, 0, 0, 0, 0, 0, 0],\n",
    "        [0, 0, 0, 0, 0, 0, 9, 0, 0],\n",
    "        [0, 0, 0, 0, 0, 0, 0, 0, 7],\n",
    "        [0, 0, 0, 6, 0, 0, 0, 7, 0],\n",
    "        [0, 0, 0, 0, 0, 0, 0, 0, 0],\n",
    "        [0, 0, 0, 0, 0, 0, 0, 0, 0]\n",
    "\n",
    "    ]\n",
    "\n",
    "    print(\"Initial board :\")\n",
    "    print_board(sudoku_board)\n",
    "\n",
    "    if solve_sudoku(sudoku_board):\n",
    "        print(\"Solution :\")\n",
    "        print_board(sudoku_board)\n",
    "    else:\n",
    "        print(\"Impossible to solve\")"
   ]
  },
  {
   "cell_type": "markdown",
   "metadata": {},
   "source": [
    "You can see for this case there is a right (and unique!) solution"
   ]
  },
  {
   "cell_type": "markdown",
   "metadata": {},
   "source": [
    "## Tests"
   ]
  },
  {
   "cell_type": "markdown",
   "metadata": {},
   "source": [
    "Let's also provide a test generator for more thorough validation for our solution  "
   ]
  },
  {
   "cell_type": "code",
   "execution_count": 5,
   "metadata": {},
   "outputs": [
    {
     "name": "stdout",
     "output_type": "stream",
     "text": [
      "[3, 2, 7, 6, 9, 1, 8, 5, 4],\n",
      "[9, 1, 8, 5, 2, 4, 7, 3, 6],\n",
      "[5, 4, 6, 3, 7, 8, 1, 9, 2],\n",
      "[8, 5, 9, 2, 6, 3, 4, 1, 7],\n",
      "[4, 3, 1, 9, 8, 7, 2, 6, 5],\n",
      "[6, 7, 2, 1, 4, 5, 3, 8, 9],\n",
      "[7, 6, 4, 8, 1, 9, 5, 2, 3],\n",
      "[1, 9, 5, 4, 3, 2, 6, 7, 8],\n",
      "[2, 8, 3, 7, 5, 6, 9, 4, 1]\n",
      "Enter the number of empty cells\n",
      "[0, 0, 7, 0, 0, 1, 8, 0, 4],\n",
      "[0, 0, 0, 0, 2, 4, 0, 3, 0],\n",
      "[5, 4, 6, 3, 7, 0, 1, 9, 2],\n",
      "[0, 5, 0, 2, 0, 0, 4, 1, 0],\n",
      "[0, 3, 0, 9, 8, 7, 0, 6, 5],\n",
      "[0, 0, 2, 1, 4, 0, 0, 8, 0],\n",
      "[7, 6, 0, 0, 1, 9, 0, 2, 0],\n",
      "[0, 0, 0, 0, 0, 0, 6, 0, 8],\n",
      "[2, 0, 0, 7, 0, 0, 0, 4, 0]\n"
     ]
    }
   ],
   "source": [
    "import random\n",
    "\n",
    "def generate_complete_sudoku():\n",
    "    board = [[0 for _ in range(9)] for _ in range(9)]\n",
    "    fill_board(board)\n",
    "    return board\n",
    "\n",
    "def fill_board(board):\n",
    "    numbers = list(range(1, 10))\n",
    "    for i in range(9):\n",
    "        for j in range(9):\n",
    "            if board[i][j] == 0:\n",
    "                random.shuffle(numbers)\n",
    "                for num in numbers:\n",
    "                    if is_valid(board, num, i, j):\n",
    "                        board[i][j] = num\n",
    "                        if not find_empty_cell(board) or fill_board(board):\n",
    "                            return True\n",
    "                        board[i][j] = 0\n",
    "                return False\n",
    "\n",
    "def remove_cells(board, num_cells_to_remove):\n",
    "    cells_removed = 0\n",
    "    while cells_removed < num_cells_to_remove:\n",
    "        row = random.randint(0, 8)\n",
    "        col = random.randint(0, 8)\n",
    "\n",
    "        if board[row][col] != 0:\n",
    "            board[row][col] = 0\n",
    "            cells_removed += 1\n",
    "\n",
    "def find_empty_cell(board):\n",
    "    for i in range(9):\n",
    "        for j in range(9):\n",
    "            if board[i][j] == 0:\n",
    "                return (i, j)\n",
    "    return None\n",
    "\n",
    "def is_valid(board, num, row, col):\n",
    "    if num in board[row]:\n",
    "        return False\n",
    "\n",
    "    if num in [board[i][col] for i in range(9)]:\n",
    "        return False\n",
    "\n",
    "    box_row = row // 3 * 3\n",
    "    box_col = col // 3 * 3\n",
    "    for i in range(box_row, box_row + 3):\n",
    "        for j in range(box_col, box_col + 3):\n",
    "            if board[i][j] == num:\n",
    "                return False\n",
    "\n",
    "    return True\n",
    "\n",
    "def print_board(board):\n",
    "    for i in range(9):\n",
    "        print('[', end=\"\")\n",
    "        for j in range(9):\n",
    "            print(board[i][j], end=\"\")\n",
    "            if j != 8:\n",
    "                print(',', end=\" \")\n",
    "        print(']', end=\"\")\n",
    "        if i != 8:\n",
    "            print(',')\n",
    "        else:\n",
    "            print('')\n",
    "\n",
    "if __name__ == \"__main__\":\n",
    "    complete_sudoku = generate_complete_sudoku()\n",
    "    print_board(complete_sudoku)\n",
    "\n",
    "    print(\"Enter the number of empty cells\")\n",
    "    num_cells_to_remove = 42 # for example\n",
    "    remove_cells(complete_sudoku, num_cells_to_remove)\n",
    "\n",
    "    print_board(complete_sudoku)"
   ]
  },
  {
   "cell_type": "markdown",
   "metadata": {},
   "source": [
    "## Estimation"
   ]
  },
  {
   "cell_type": "markdown",
   "metadata": {},
   "source": [
    "The algorithm is based on backtracking, which leads to exponential complexity in the real case.\n",
    "\n",
    "#### Backtracking\n",
    "* In worst case the algorithm traverses all the cells, trying to set a unique valid digit from $ 1 $ to $ 9 $  \n",
    "* For every cell it creates the solution tree with depth from $ 1 $ to $ 9 \\cdot 9 = 81 $\n",
    "* So the worst case has an estimation $ \\theta(9^{81}) $ "
   ]
  },
  {
   "cell_type": "markdown",
   "metadata": {},
   "source": [
    "# Part 2: optimization & approximation"
   ]
  },
  {
   "cell_type": "markdown",
   "metadata": {},
   "source": [
    "The real case is much better thanks to the validation check (is_valid), which excludes many invalid solutions.\n",
    "The practical difficulty is much lower, as most Sudokus have fewer empty cells and are well structured.\n",
    "\n",
    "Also there are some well-optimized methods allowed to solve Sudoku better. For example, there is **Dancing Links (DLX)** algorithm. \n",
    "The DLX algorithm, developed by Donald Knuth, presents Sudoku as an exact coverage problem. It uses the \"linked lists\" data structure to efficiently find solutions. This approach is considered one of the fastest to solve Sudoku."
   ]
  },
  {
   "cell_type": "markdown",
   "metadata": {},
   "source": [
    "As for our naive solution, we can, for example, firstly pick an empty cell in some \"dense\" region. It allows us to decrease the potential depth of backtracing and save us from the worst case more likely  "
   ]
  }
 ],
 "metadata": {
  "kernelspec": {
   "display_name": "Python 3",
   "language": "python",
   "name": "python3"
  },
  "language_info": {
   "codemirror_mode": {
    "name": "ipython",
    "version": 3
   },
   "file_extension": ".py",
   "mimetype": "text/x-python",
   "name": "python",
   "nbconvert_exporter": "python",
   "pygments_lexer": "ipython3",
   "version": "3.10.12"
  }
 },
 "nbformat": 4,
 "nbformat_minor": 2
}
